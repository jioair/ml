{
 "cells": [
  {
   "cell_type": "code",
   "execution_count": 1,
   "id": "f90285bb-f058-4621-b25d-1c6512c86ae7",
   "metadata": {},
   "outputs": [
    {
     "name": "stdout",
     "output_type": "stream",
     "text": [
      "{0: [2, 4, 6, 8, 10], 1: [11, 12, 18, 25, 30]}\n",
      "6.0 19.2\n",
      "{0: [2, 4, 6, 8, 10, 11, 12], 1: [18, 25, 30]}\n",
      "7.571428571428571 24.333333333333332\n",
      "{0: [2, 4, 6, 8, 10, 11, 12], 1: [18, 25, 30]}\n",
      "both are equal\n"
     ]
    }
   ],
   "source": [
    "p = [2, 4, 6, 8, 10, 11, 12, 18, 25, 30]\n",
    "\n",
    "k = 2 # clusters\n",
    "\n",
    "m1 = 2\n",
    "\n",
    "m2 = 18\n",
    "\n",
    "d  = {}\n",
    "r = []\n",
    "q  =[]\n",
    "\n",
    "for i in range(len(p)):\n",
    "    if ( (abs(m1 -  p[i])) > (abs(m2 - p[i])) ):\n",
    "        r.append(p[i])\n",
    "    else:\n",
    "        q.append(p[i])\n",
    "\n",
    "d[0] = q        \n",
    "d[1] = r\n",
    "print(d)\n",
    "t = True\n",
    "for i in range(len(d)):\n",
    "    avg = 0\n",
    "    for j in range(len(d[i])):\n",
    "        avg += d[i][j]\n",
    "    if t == True:\n",
    "        m1 = avg / len(d[i])\n",
    "        t = False\n",
    "    else:\n",
    "        m2 = avg / len(d[i])\n",
    "   \n",
    "print(m1, m2)\n",
    "\n",
    "while True:\n",
    "    d1  = {}\n",
    "    r = []\n",
    "    q = []\n",
    "    for i in range(len(p)):\n",
    "        if ( (abs(m1 -  p[i])) > (abs(m2 - p[i])) ):\n",
    "            r.append(p[i])\n",
    "        else:\n",
    "            q.append(p[i])\n",
    "   \n",
    "    d1[0] = q        \n",
    "    d1[1] = r\n",
    "    print(d1)\n",
    "    if d1[0] == d[0] and d1[1] == d[1]:\n",
    "        # stop because clusters are equal\n",
    "        print('both are equal')\n",
    "        break\n",
    "   \n",
    "    t = True\n",
    "    for i in range(len(d1)):\n",
    "        avg = 0\n",
    "        for j in range(len(d1[i])):\n",
    "            avg += d1[i][j]\n",
    "        if t == True:\n",
    "            m1 = avg / len(d1[i])\n",
    "            t = False\n",
    "        else:\n",
    "            m2 = avg / len(d1[i])\n",
    "\n",
    "    print(m1, m2)\n",
    "    d[0] = d1[0]\n",
    "    d[1] = d1[1]"
   ]
  },
  {
   "cell_type": "code",
   "execution_count": null,
   "id": "cf9f3eac-ee48-4cfc-b368-59c3435b5999",
   "metadata": {},
   "outputs": [],
   "source": [
    "import pandas as pd\n",
    "from sklearn.preprocessing import LabelEncoder\n",
    "df=pd.read_csv(\"dataset-1.csv\")\n",
    "label_encoder=LabelEncoder()\n",
    "p[\"encoded\"]=label_encoder.fit_transform(df[\"MARKS\"])\n",
    "print(df)"
   ]
  },
  {
   "cell_type": "code",
   "execution_count": null,
   "id": "4849ebab-8f53-4304-a886-33c01676dd48",
   "metadata": {},
   "outputs": [],
   "source": [
    "correctly_clustered = 0\n",
    "\n",
    "for cluster in d1.values():\n",
    "    for point in cluster:\n",
    "        point_index = p.index(point)\n",
    "        if true_labels[point_index] == 0:\n",
    "            if d1[0] == q:\n",
    "                correctly_clustered += 1\n",
    "        elif true_labels[point_index] == 1:\n",
    "            if d1[1] == r:\n",
    "                correctly_clustered += 1\n",
    "\n",
    "accuracy = correctly_clustered / len(p)\n",
    "print(\"Accuracy:\", accuracy)"
   ]
  }
 ],
 "metadata": {
  "kernelspec": {
   "display_name": "Python 3 (ipykernel)",
   "language": "python",
   "name": "python3"
  },
  "language_info": {
   "codemirror_mode": {
    "name": "ipython",
    "version": 3
   },
   "file_extension": ".py",
   "mimetype": "text/x-python",
   "name": "python",
   "nbconvert_exporter": "python",
   "pygments_lexer": "ipython3",
   "version": "3.10.7"
  }
 },
 "nbformat": 4,
 "nbformat_minor": 5
}
