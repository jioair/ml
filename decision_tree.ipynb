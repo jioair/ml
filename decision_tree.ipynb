{
 "cells": [
  {
   "cell_type": "code",
   "execution_count": 27,
   "id": "d87e34b9-2ee3-46e1-9175-8bbfe4f2b7c6",
   "metadata": {},
   "outputs": [
    {
     "name": "stdout",
     "output_type": "stream",
     "text": [
      "8 6\n",
      "0.9852281360342516\n",
      "-0.3467680694480959\n",
      "-0.5785618192935624\n",
      "-0.8363932817533347\n",
      "[0.14883485428091692]\n",
      "{'mild', 'cool', 'hot'}\n",
      "-0.2578314624597723\n",
      "-0.8949517866414867\n",
      "[0.14883485428091692, 0.09027634939276497]\n",
      "{'overcast', 'sunny'}\n",
      "-0.5903330361778862\n",
      "-0.9371011056259821\n",
      "[0.14883485428091692, 0.09027634939276497, 0.04812703040826949]\n",
      "{'low', 'high'}\n",
      "-0.4926140680171258\n",
      "-0.9852281360342516\n",
      "[0.14883485428091692, 0.09027634939276497, 0.04812703040826949, 0.0]\n",
      "{'strong', 'weak'}\n"
     ]
    }
   ],
   "source": [
    "import pandas as pd\n",
    "import math\n",
    "your_dataset = pd.read_csv('tennis.csv')\n",
    "l=['Temperature','Outlook','Humidity','Wind','Game']\n",
    "ty=0\n",
    "tn=0\n",
    "ent=your_dataset[l[4]].values\n",
    "for i in range(len(ent)):\n",
    "    if ent[i]=='yes':\n",
    "        ty+=1\n",
    "    else:\n",
    "        tn+=1\n",
    "print(ty,tn)\n",
    "entropy=-((ty/(ty+tn))*math.log2(ty/(ty+tn)))-((tn/(ty+tn))*math.log2(tn/(ty+tn)))\n",
    "print(entropy)\n",
    "result=[]\n",
    "for i in range(4):\n",
    "    x=  your_dataset[l[i]].values\n",
    "    p=set(x)\n",
    "    sum=0\n",
    "    for j in p:\n",
    "        y=0\n",
    "        n=0\n",
    "        for k in range(len(your_dataset)):\n",
    "            if x[k]==j:\n",
    "                if ent[k]=='yes':\n",
    "                    y+=1\n",
    "                else:\n",
    "                    n+=1\n",
    "        m=-(((y/(y+n))*math.log2(y/(y+n)))+((n/(y+n))*(math.log2(n/(y+n)))))\n",
    "        sum+=(-((y+n)/len(your_dataset)))*m\n",
    "        print(sum)\n",
    "    result.append(entropy+sum)\n",
    "    print(result)\n",
    "    print(p)"
   ]
  },
  {
   "cell_type": "code",
   "execution_count": null,
   "id": "7db6bb2e-1d39-48e4-8d7d-8d09cbc0a40b",
   "metadata": {},
   "outputs": [],
   "source": []
  }
 ],
 "metadata": {
  "kernelspec": {
   "display_name": "Python 3 (ipykernel)",
   "language": "python",
   "name": "python3"
  },
  "language_info": {
   "codemirror_mode": {
    "name": "ipython",
    "version": 3
   },
   "file_extension": ".py",
   "mimetype": "text/x-python",
   "name": "python",
   "nbconvert_exporter": "python",
   "pygments_lexer": "ipython3",
   "version": "3.10.7"
  }
 },
 "nbformat": 4,
 "nbformat_minor": 5
}
